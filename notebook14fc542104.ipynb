{
 "cells": [
  {
   "cell_type": "code",
   "execution_count": 1,
   "id": "0da29869",
   "metadata": {
    "execution": {
     "iopub.execute_input": "2024-10-19T22:27:23.686271Z",
     "iopub.status.busy": "2024-10-19T22:27:23.685777Z",
     "iopub.status.idle": "2024-10-19T22:27:26.741122Z",
     "shell.execute_reply": "2024-10-19T22:27:26.739855Z"
    },
    "papermill": {
     "duration": 3.071777,
     "end_time": "2024-10-19T22:27:26.744515",
     "exception": false,
     "start_time": "2024-10-19T22:27:23.672738",
     "status": "completed"
    },
    "tags": []
   },
   "outputs": [],
   "source": [
    "import pandas as pd\n",
    "import numpy as np\n",
    "import matplotlib.pyplot as plt\n",
    "import seaborn as sns"
   ]
  },
  {
   "cell_type": "code",
   "execution_count": 2,
   "id": "92002622",
   "metadata": {
    "execution": {
     "iopub.execute_input": "2024-10-19T22:27:26.768234Z",
     "iopub.status.busy": "2024-10-19T22:27:26.767027Z",
     "iopub.status.idle": "2024-10-19T22:27:26.912099Z",
     "shell.execute_reply": "2024-10-19T22:27:26.910641Z"
    },
    "papermill": {
     "duration": 0.160375,
     "end_time": "2024-10-19T22:27:26.915481",
     "exception": false,
     "start_time": "2024-10-19T22:27:26.755106",
     "status": "completed"
    },
    "tags": []
   },
   "outputs": [],
   "source": [
    "df1 = pd.read_csv('/kaggle/input/bussiness1/Customer-Raw Data - Business Data Set (Copy-csv)2 - Copy.csv', encoding='ISO-8859-1')\n",
    "df2 = pd.read_csv('/kaggle/input/bussiness1/Del Col- Raw Data - Business Data Set.csv', encoding='ISO-8859-1')\n",
    "df3 = pd.read_csv('/kaggle/input/bussiness1/Product- Raw Data - Business Data Set (Copy-csv) - Copy.csv', encoding='ISO-8859-1')\n"
   ]
  },
  {
   "cell_type": "code",
   "execution_count": 3,
   "id": "9c135d15",
   "metadata": {
    "execution": {
     "iopub.execute_input": "2024-10-19T22:27:26.939910Z",
     "iopub.status.busy": "2024-10-19T22:27:26.938624Z",
     "iopub.status.idle": "2024-10-19T22:27:26.965229Z",
     "shell.execute_reply": "2024-10-19T22:27:26.963924Z"
    },
    "papermill": {
     "duration": 0.042314,
     "end_time": "2024-10-19T22:27:26.968662",
     "exception": false,
     "start_time": "2024-10-19T22:27:26.926348",
     "status": "completed"
    },
    "tags": []
   },
   "outputs": [
    {
     "name": "stdout",
     "output_type": "stream",
     "text": [
      "         Order ID       Order Date       Ship Mode Customer ID  \\\n",
      "0  CA-2016-152156   11/8/2016 0:00             NaN    CG-12520   \n",
      "1  CA-2016-152156   11/8/2016 0:00    Second Class    CG-12520   \n",
      "2  CA-2016-138688   6/12/2016 0:00    Second Class    DV-13045   \n",
      "3  US-2015-108966  10/11/2015 0:00  Standard Class    SO-20335   \n",
      "4  US-2015-108966  10/11/2015 0:00  Standard Class    SO-20335   \n",
      "5  CA-2014-115812    6/9/2014 0:00  Standard Class    BH-11710   \n",
      "6  CA-2014-115812    6/9/2014 0:00  Standard Class    BH-11710   \n",
      "7  CA-2014-115812    6/9/2014 0:00  Standard Class    BH-11710   \n",
      "8  CA-2014-115812    6/9/2014 0:00  Standard Class    BH-11710   \n",
      "9  CA-2014-115812    6/9/2014 0:00  Standard Class    BH-11710   \n",
      "\n",
      "        Product ID        country             city       State  Postal Code  \\\n",
      "0  FUR-BO-10001798  United States        Henderson    Kentucky        42420   \n",
      "1  FUR-CH-10000454  United States        Henderson    Kentucky        42420   \n",
      "2  OFF-LA-10000240  United States      Los Angeles  California        90036   \n",
      "3  FUR-TA-10000577  United States  Fort Lauderdale     Florida        33311   \n",
      "4  OFF-ST-10000760  United States  Fort Lauderdale     Florida        33311   \n",
      "5  FUR-FU-10001487  United States      Los Angeles  California        90032   \n",
      "6  OFF-AR-10002833  United States      Los Angeles  California        90032   \n",
      "7  TEC-PH-10002275  United States      Los Angeles  California        90032   \n",
      "8  OFF-BI-10003910  United States      Los Angeles  California        90032   \n",
      "9  OFF-AP-10002892  United States      Los Angeles  California        90032   \n",
      "\n",
      "  Region         Category Sub-Category     Sales  Quantity  Discount    profit  \n",
      "0  South        Furniture    Bookcases       NaN       2.0      0.00   41.9136  \n",
      "1  South        Furniture       Chairs  731.9400       3.0      0.00       NaN  \n",
      "2   West  Office Supplies       Labels   14.6200       2.0      0.00    6.8714  \n",
      "3  South        Furniture       Tables  957.5775       NaN      0.45 -383.0310  \n",
      "4  South  Office Supplies      Storage   22.3680       2.0      0.20    2.5164  \n",
      "5   West        Furniture  Furnishings   48.8600       7.0      0.00       NaN  \n",
      "6   West  Office Supplies          Art       NaN       4.0      0.00       NaN  \n",
      "7   West       Technology       Phones  907.1520       6.0      0.20   90.7152  \n",
      "8   West  Office Supplies      Binders       NaN       NaN      0.20       NaN  \n",
      "9   West  Office Supplies   Appliances       NaN       5.0      0.00       NaN  \n"
     ]
    }
   ],
   "source": [
    "print(df2.head(10))"
   ]
  },
  {
   "cell_type": "code",
   "execution_count": 4,
   "id": "0b387094",
   "metadata": {
    "execution": {
     "iopub.execute_input": "2024-10-19T22:27:26.993956Z",
     "iopub.status.busy": "2024-10-19T22:27:26.993390Z",
     "iopub.status.idle": "2024-10-19T22:27:27.014534Z",
     "shell.execute_reply": "2024-10-19T22:27:27.012641Z"
    },
    "papermill": {
     "duration": 0.038021,
     "end_time": "2024-10-19T22:27:27.018020",
     "exception": false,
     "start_time": "2024-10-19T22:27:26.979999",
     "status": "completed"
    },
    "tags": []
   },
   "outputs": [
    {
     "name": "stdout",
     "output_type": "stream",
     "text": [
      "            Order ID      Order Date       Ship Mode Customer ID  \\\n",
      "9989  CA-2014-110422  1/21/2014 0:00    Second Class    TB-21400   \n",
      "9990  CA-2017-121258  2/26/2017 0:00  Standard Class    DB-13060   \n",
      "9991  CA-2017-121258  2/26/2017 0:00  Standard Class    DB-13060   \n",
      "9992  CA-2017-121258  2/26/2017 0:00  Standard Class    DB-13060   \n",
      "9993  CA-2017-119914   5/4/2017 0:00    Second Class    CC-12220   \n",
      "\n",
      "           Product ID        country         city       State  Postal Code  \\\n",
      "9989  FUR-FU-10001889  United States        Miami     Florida        33180   \n",
      "9990  FUR-FU-10000747  United States   Costa Mesa  California        92627   \n",
      "9991  TEC-PH-10003645  United States   Costa Mesa  California        92627   \n",
      "9992  OFF-PA-10004041  United States   Costa Mesa  California        92627   \n",
      "9993  OFF-AP-10002684  United States  Westminster  California        92683   \n",
      "\n",
      "     Region         Category Sub-Category    Sales  Quantity  Discount  \\\n",
      "9989  South        Furniture  Furnishings   25.248       3.0       0.2   \n",
      "9990   West        Furniture  Furnishings   91.960       2.0       0.0   \n",
      "9991   West       Technology       Phones  258.576       2.0       0.2   \n",
      "9992   West  Office Supplies        Paper   29.600       4.0       0.0   \n",
      "9993   West  Office Supplies   Appliances  243.160       2.0       0.0   \n",
      "\n",
      "       profit  \n",
      "9989   4.1028  \n",
      "9990  15.6332  \n",
      "9991  19.3932  \n",
      "9992  13.3200  \n",
      "9993  72.9480  \n"
     ]
    }
   ],
   "source": [
    "print(df2.tail())"
   ]
  },
  {
   "cell_type": "code",
   "execution_count": 5,
   "id": "97fc4941",
   "metadata": {
    "execution": {
     "iopub.execute_input": "2024-10-19T22:27:27.042809Z",
     "iopub.status.busy": "2024-10-19T22:27:27.042321Z",
     "iopub.status.idle": "2024-10-19T22:27:27.087685Z",
     "shell.execute_reply": "2024-10-19T22:27:27.086123Z"
    },
    "papermill": {
     "duration": 0.060707,
     "end_time": "2024-10-19T22:27:27.090948",
     "exception": false,
     "start_time": "2024-10-19T22:27:27.030241",
     "status": "completed"
    },
    "tags": []
   },
   "outputs": [
    {
     "name": "stdout",
     "output_type": "stream",
     "text": [
      "<class 'pandas.core.frame.DataFrame'>\n",
      "RangeIndex: 9994 entries, 0 to 9993\n",
      "Data columns (total 16 columns):\n",
      " #   Column        Non-Null Count  Dtype  \n",
      "---  ------        --------------  -----  \n",
      " 0   Order ID      9994 non-null   object \n",
      " 1   Order Date    9994 non-null   object \n",
      " 2   Ship Mode     8710 non-null   object \n",
      " 3   Customer ID   9994 non-null   object \n",
      " 4   Product ID    9994 non-null   object \n",
      " 5   country       9994 non-null   object \n",
      " 6   city          9994 non-null   object \n",
      " 7   State         9994 non-null   object \n",
      " 8   Postal Code   9994 non-null   int64  \n",
      " 9   Region        9994 non-null   object \n",
      " 10  Category      9994 non-null   object \n",
      " 11  Sub-Category  9994 non-null   object \n",
      " 12  Sales         8398 non-null   float64\n",
      " 13  Quantity      9436 non-null   float64\n",
      " 14  Discount      9994 non-null   float64\n",
      " 15  profit        8073 non-null   float64\n",
      "dtypes: float64(4), int64(1), object(11)\n",
      "memory usage: 1.2+ MB\n",
      "None\n"
     ]
    }
   ],
   "source": [
    "print(df2.info())"
   ]
  },
  {
   "cell_type": "code",
   "execution_count": 6,
   "id": "17d0ee70",
   "metadata": {
    "execution": {
     "iopub.execute_input": "2024-10-19T22:27:27.115236Z",
     "iopub.status.busy": "2024-10-19T22:27:27.114726Z",
     "iopub.status.idle": "2024-10-19T22:27:27.121702Z",
     "shell.execute_reply": "2024-10-19T22:27:27.120196Z"
    },
    "papermill": {
     "duration": 0.022364,
     "end_time": "2024-10-19T22:27:27.124561",
     "exception": false,
     "start_time": "2024-10-19T22:27:27.102197",
     "status": "completed"
    },
    "tags": []
   },
   "outputs": [
    {
     "name": "stdout",
     "output_type": "stream",
     "text": [
      "(9994, 16)\n"
     ]
    }
   ],
   "source": [
    "print(df2.shape)"
   ]
  },
  {
   "cell_type": "code",
   "execution_count": 7,
   "id": "08d06aad",
   "metadata": {
    "execution": {
     "iopub.execute_input": "2024-10-19T22:27:27.149082Z",
     "iopub.status.busy": "2024-10-19T22:27:27.148619Z",
     "iopub.status.idle": "2024-10-19T22:27:27.155913Z",
     "shell.execute_reply": "2024-10-19T22:27:27.154394Z"
    },
    "papermill": {
     "duration": 0.023696,
     "end_time": "2024-10-19T22:27:27.159197",
     "exception": false,
     "start_time": "2024-10-19T22:27:27.135501",
     "status": "completed"
    },
    "tags": []
   },
   "outputs": [
    {
     "name": "stdout",
     "output_type": "stream",
     "text": [
      "(9994, 2)\n"
     ]
    }
   ],
   "source": [
    "print(df1.shape)"
   ]
  },
  {
   "cell_type": "code",
   "execution_count": 8,
   "id": "c5d017bd",
   "metadata": {
    "execution": {
     "iopub.execute_input": "2024-10-19T22:27:27.182927Z",
     "iopub.status.busy": "2024-10-19T22:27:27.182408Z",
     "iopub.status.idle": "2024-10-19T22:27:27.220097Z",
     "shell.execute_reply": "2024-10-19T22:27:27.218831Z"
    },
    "papermill": {
     "duration": 0.052713,
     "end_time": "2024-10-19T22:27:27.222882",
     "exception": false,
     "start_time": "2024-10-19T22:27:27.170169",
     "status": "completed"
    },
    "tags": []
   },
   "outputs": [
    {
     "data": {
      "text/html": [
       "<div>\n",
       "<style scoped>\n",
       "    .dataframe tbody tr th:only-of-type {\n",
       "        vertical-align: middle;\n",
       "    }\n",
       "\n",
       "    .dataframe tbody tr th {\n",
       "        vertical-align: top;\n",
       "    }\n",
       "\n",
       "    .dataframe thead th {\n",
       "        text-align: right;\n",
       "    }\n",
       "</style>\n",
       "<table border=\"1\" class=\"dataframe\">\n",
       "  <thead>\n",
       "    <tr style=\"text-align: right;\">\n",
       "      <th></th>\n",
       "      <th>Postal Code</th>\n",
       "      <th>Sales</th>\n",
       "      <th>Quantity</th>\n",
       "      <th>Discount</th>\n",
       "      <th>profit</th>\n",
       "    </tr>\n",
       "  </thead>\n",
       "  <tbody>\n",
       "    <tr>\n",
       "      <th>count</th>\n",
       "      <td>9994.000000</td>\n",
       "      <td>8398.000000</td>\n",
       "      <td>9436.000000</td>\n",
       "      <td>9994.000000</td>\n",
       "      <td>8073.000000</td>\n",
       "    </tr>\n",
       "    <tr>\n",
       "      <th>mean</th>\n",
       "      <td>55190.379428</td>\n",
       "      <td>233.419173</td>\n",
       "      <td>3.800869</td>\n",
       "      <td>0.156203</td>\n",
       "      <td>30.755376</td>\n",
       "    </tr>\n",
       "    <tr>\n",
       "      <th>std</th>\n",
       "      <td>32063.693350</td>\n",
       "      <td>643.045354</td>\n",
       "      <td>2.233408</td>\n",
       "      <td>0.206452</td>\n",
       "      <td>238.756440</td>\n",
       "    </tr>\n",
       "    <tr>\n",
       "      <th>min</th>\n",
       "      <td>1040.000000</td>\n",
       "      <td>0.556000</td>\n",
       "      <td>1.000000</td>\n",
       "      <td>0.000000</td>\n",
       "      <td>-6599.978000</td>\n",
       "    </tr>\n",
       "    <tr>\n",
       "      <th>25%</th>\n",
       "      <td>23223.000000</td>\n",
       "      <td>17.340000</td>\n",
       "      <td>2.000000</td>\n",
       "      <td>0.000000</td>\n",
       "      <td>1.676200</td>\n",
       "    </tr>\n",
       "    <tr>\n",
       "      <th>50%</th>\n",
       "      <td>56430.500000</td>\n",
       "      <td>54.352000</td>\n",
       "      <td>3.000000</td>\n",
       "      <td>0.200000</td>\n",
       "      <td>8.643600</td>\n",
       "    </tr>\n",
       "    <tr>\n",
       "      <th>75%</th>\n",
       "      <td>90008.000000</td>\n",
       "      <td>211.136000</td>\n",
       "      <td>5.000000</td>\n",
       "      <td>0.200000</td>\n",
       "      <td>29.285700</td>\n",
       "    </tr>\n",
       "    <tr>\n",
       "      <th>max</th>\n",
       "      <td>99301.000000</td>\n",
       "      <td>22638.480000</td>\n",
       "      <td>14.000000</td>\n",
       "      <td>0.800000</td>\n",
       "      <td>8399.976000</td>\n",
       "    </tr>\n",
       "  </tbody>\n",
       "</table>\n",
       "</div>"
      ],
      "text/plain": [
       "        Postal Code         Sales     Quantity     Discount       profit\n",
       "count   9994.000000   8398.000000  9436.000000  9994.000000  8073.000000\n",
       "mean   55190.379428    233.419173     3.800869     0.156203    30.755376\n",
       "std    32063.693350    643.045354     2.233408     0.206452   238.756440\n",
       "min     1040.000000      0.556000     1.000000     0.000000 -6599.978000\n",
       "25%    23223.000000     17.340000     2.000000     0.000000     1.676200\n",
       "50%    56430.500000     54.352000     3.000000     0.200000     8.643600\n",
       "75%    90008.000000    211.136000     5.000000     0.200000    29.285700\n",
       "max    99301.000000  22638.480000    14.000000     0.800000  8399.976000"
      ]
     },
     "execution_count": 8,
     "metadata": {},
     "output_type": "execute_result"
    }
   ],
   "source": [
    "df2.describe()"
   ]
  },
  {
   "cell_type": "code",
   "execution_count": 9,
   "id": "906d2d65",
   "metadata": {
    "execution": {
     "iopub.execute_input": "2024-10-19T22:27:27.248592Z",
     "iopub.status.busy": "2024-10-19T22:27:27.247261Z",
     "iopub.status.idle": "2024-10-19T22:27:27.260368Z",
     "shell.execute_reply": "2024-10-19T22:27:27.258942Z"
    },
    "papermill": {
     "duration": 0.028888,
     "end_time": "2024-10-19T22:27:27.263152",
     "exception": false,
     "start_time": "2024-10-19T22:27:27.234264",
     "status": "completed"
    },
    "tags": []
   },
   "outputs": [
    {
     "data": {
      "text/plain": [
       "Customer ID      0\n",
       "Customer Name    0\n",
       "dtype: int64"
      ]
     },
     "execution_count": 9,
     "metadata": {},
     "output_type": "execute_result"
    }
   ],
   "source": [
    "df1.isnull().sum()"
   ]
  },
  {
   "cell_type": "code",
   "execution_count": 10,
   "id": "04884f4c",
   "metadata": {
    "execution": {
     "iopub.execute_input": "2024-10-19T22:27:27.289794Z",
     "iopub.status.busy": "2024-10-19T22:27:27.288702Z",
     "iopub.status.idle": "2024-10-19T22:27:27.302089Z",
     "shell.execute_reply": "2024-10-19T22:27:27.300589Z"
    },
    "papermill": {
     "duration": 0.031196,
     "end_time": "2024-10-19T22:27:27.305719",
     "exception": false,
     "start_time": "2024-10-19T22:27:27.274523",
     "status": "completed"
    },
    "tags": []
   },
   "outputs": [
    {
     "data": {
      "text/plain": [
       "Product ID      0\n",
       "Product Name    0\n",
       "dtype: int64"
      ]
     },
     "execution_count": 10,
     "metadata": {},
     "output_type": "execute_result"
    }
   ],
   "source": [
    "df3.isnull().sum()"
   ]
  },
  {
   "cell_type": "code",
   "execution_count": 11,
   "id": "3a070464",
   "metadata": {
    "execution": {
     "iopub.execute_input": "2024-10-19T22:27:27.332176Z",
     "iopub.status.busy": "2024-10-19T22:27:27.331700Z",
     "iopub.status.idle": "2024-10-19T22:27:27.355848Z",
     "shell.execute_reply": "2024-10-19T22:27:27.354571Z"
    },
    "papermill": {
     "duration": 0.040903,
     "end_time": "2024-10-19T22:27:27.359125",
     "exception": false,
     "start_time": "2024-10-19T22:27:27.318222",
     "status": "completed"
    },
    "tags": []
   },
   "outputs": [
    {
     "data": {
      "text/plain": [
       "Order ID           0\n",
       "Order Date         0\n",
       "Ship Mode       1284\n",
       "Customer ID        0\n",
       "Product ID         0\n",
       "country            0\n",
       "city               0\n",
       "State              0\n",
       "Postal Code        0\n",
       "Region             0\n",
       "Category           0\n",
       "Sub-Category       0\n",
       "Sales           1596\n",
       "Quantity         558\n",
       "Discount           0\n",
       "profit          1921\n",
       "dtype: int64"
      ]
     },
     "execution_count": 11,
     "metadata": {},
     "output_type": "execute_result"
    }
   ],
   "source": [
    "df2.isnull().sum()"
   ]
  },
  {
   "cell_type": "code",
   "execution_count": 12,
   "id": "cdb1c0a2",
   "metadata": {
    "execution": {
     "iopub.execute_input": "2024-10-19T22:27:27.386175Z",
     "iopub.status.busy": "2024-10-19T22:27:27.385691Z",
     "iopub.status.idle": "2024-10-19T22:27:27.410799Z",
     "shell.execute_reply": "2024-10-19T22:27:27.408837Z"
    },
    "papermill": {
     "duration": 0.042841,
     "end_time": "2024-10-19T22:27:27.414178",
     "exception": false,
     "start_time": "2024-10-19T22:27:27.371337",
     "status": "completed"
    },
    "tags": []
   },
   "outputs": [
    {
     "name": "stdout",
     "output_type": "stream",
     "text": [
      "Order ID         0.000000\n",
      "Order Date       0.000000\n",
      "Ship Mode       12.847709\n",
      "Customer ID      0.000000\n",
      "Product ID       0.000000\n",
      "country          0.000000\n",
      "city             0.000000\n",
      "State            0.000000\n",
      "Postal Code      0.000000\n",
      "Region           0.000000\n",
      "Category         0.000000\n",
      "Sub-Category     0.000000\n",
      "Sales           15.969582\n",
      "Quantity         5.583350\n",
      "Discount         0.000000\n",
      "profit          19.221533\n",
      "dtype: float64\n"
     ]
    }
   ],
   "source": [
    "null_percentage = (df2.isnull().sum() / len(df2)) * 100\n",
    "print(null_percentage)"
   ]
  },
  {
   "cell_type": "code",
   "execution_count": 13,
   "id": "6c408b9c",
   "metadata": {
    "execution": {
     "iopub.execute_input": "2024-10-19T22:27:27.442204Z",
     "iopub.status.busy": "2024-10-19T22:27:27.441670Z",
     "iopub.status.idle": "2024-10-19T22:27:27.455004Z",
     "shell.execute_reply": "2024-10-19T22:27:27.453560Z"
    },
    "papermill": {
     "duration": 0.031053,
     "end_time": "2024-10-19T22:27:27.458035",
     "exception": false,
     "start_time": "2024-10-19T22:27:27.426982",
     "status": "completed"
    },
    "tags": []
   },
   "outputs": [],
   "source": [
    "df_cleaned = df2.loc[:, null_percentage < 60]"
   ]
  },
  {
   "cell_type": "code",
   "execution_count": 14,
   "id": "a7c0e644",
   "metadata": {
    "execution": {
     "iopub.execute_input": "2024-10-19T22:27:27.484828Z",
     "iopub.status.busy": "2024-10-19T22:27:27.484328Z",
     "iopub.status.idle": "2024-10-19T22:27:27.509132Z",
     "shell.execute_reply": "2024-10-19T22:27:27.507557Z"
    },
    "papermill": {
     "duration": 0.04198,
     "end_time": "2024-10-19T22:27:27.512522",
     "exception": false,
     "start_time": "2024-10-19T22:27:27.470542",
     "status": "completed"
    },
    "tags": []
   },
   "outputs": [],
   "source": [
    "df2_cleaned = df2.dropna()"
   ]
  },
  {
   "cell_type": "code",
   "execution_count": 15,
   "id": "84345c3e",
   "metadata": {
    "execution": {
     "iopub.execute_input": "2024-10-19T22:27:27.539518Z",
     "iopub.status.busy": "2024-10-19T22:27:27.538998Z",
     "iopub.status.idle": "2024-10-19T22:27:27.557051Z",
     "shell.execute_reply": "2024-10-19T22:27:27.555350Z"
    },
    "papermill": {
     "duration": 0.035558,
     "end_time": "2024-10-19T22:27:27.560908",
     "exception": false,
     "start_time": "2024-10-19T22:27:27.525350",
     "status": "completed"
    },
    "tags": []
   },
   "outputs": [
    {
     "name": "stdout",
     "output_type": "stream",
     "text": [
      "            Order ID       Order Date       Ship Mode Customer ID  \\\n",
      "2     CA-2016-138688   6/12/2016 0:00    Second Class    DV-13045   \n",
      "4     US-2015-108966  10/11/2015 0:00  Standard Class    SO-20335   \n",
      "7     CA-2014-115812    6/9/2014 0:00  Standard Class    BH-11710   \n",
      "14    US-2015-118983  11/22/2015 0:00  Standard Class    HP-14815   \n",
      "21    CA-2016-137330   12/9/2016 0:00  Standard Class    KB-16585   \n",
      "...              ...              ...             ...         ...   \n",
      "9989  CA-2014-110422   1/21/2014 0:00    Second Class    TB-21400   \n",
      "9990  CA-2017-121258   2/26/2017 0:00  Standard Class    DB-13060   \n",
      "9991  CA-2017-121258   2/26/2017 0:00  Standard Class    DB-13060   \n",
      "9992  CA-2017-121258   2/26/2017 0:00  Standard Class    DB-13060   \n",
      "9993  CA-2017-119914    5/4/2017 0:00    Second Class    CC-12220   \n",
      "\n",
      "           Product ID        country             city       State  \\\n",
      "2     OFF-LA-10000240  United States      Los Angeles  California   \n",
      "4     OFF-ST-10000760  United States  Fort Lauderdale     Florida   \n",
      "7     TEC-PH-10002275  United States      Los Angeles  California   \n",
      "14    OFF-AP-10002311  United States       Fort Worth       Texas   \n",
      "21    OFF-AR-10000246  United States          Fremont    Nebraska   \n",
      "...               ...            ...              ...         ...   \n",
      "9989  FUR-FU-10001889  United States            Miami     Florida   \n",
      "9990  FUR-FU-10000747  United States       Costa Mesa  California   \n",
      "9991  TEC-PH-10003645  United States       Costa Mesa  California   \n",
      "9992  OFF-PA-10004041  United States       Costa Mesa  California   \n",
      "9993  OFF-AP-10002684  United States      Westminster  California   \n",
      "\n",
      "      Postal Code   Region         Category Sub-Category    Sales  Quantity  \\\n",
      "2           90036     West  Office Supplies       Labels   14.620       2.0   \n",
      "4           33311    South  Office Supplies      Storage   22.368       2.0   \n",
      "7           90032     West       Technology       Phones  907.152       6.0   \n",
      "14          76106  Central  Office Supplies   Appliances   68.810       5.0   \n",
      "21          68025  Central  Office Supplies          Art   19.460       7.0   \n",
      "...           ...      ...              ...          ...      ...       ...   \n",
      "9989        33180    South        Furniture  Furnishings   25.248       3.0   \n",
      "9990        92627     West        Furniture  Furnishings   91.960       2.0   \n",
      "9991        92627     West       Technology       Phones  258.576       2.0   \n",
      "9992        92627     West  Office Supplies        Paper   29.600       4.0   \n",
      "9993        92683     West  Office Supplies   Appliances  243.160       2.0   \n",
      "\n",
      "      Discount    profit  \n",
      "2          0.0    6.8714  \n",
      "4          0.2    2.5164  \n",
      "7          0.2   90.7152  \n",
      "14         0.8 -123.8580  \n",
      "21         0.0    5.0596  \n",
      "...        ...       ...  \n",
      "9989       0.2    4.1028  \n",
      "9990       0.0   15.6332  \n",
      "9991       0.2   19.3932  \n",
      "9992       0.0   13.3200  \n",
      "9993       0.0   72.9480  \n",
      "\n",
      "[6395 rows x 16 columns]\n"
     ]
    }
   ],
   "source": [
    "print(df2_cleaned)"
   ]
  },
  {
   "cell_type": "code",
   "execution_count": 16,
   "id": "3c103f86",
   "metadata": {
    "execution": {
     "iopub.execute_input": "2024-10-19T22:27:27.589180Z",
     "iopub.status.busy": "2024-10-19T22:27:27.587908Z",
     "iopub.status.idle": "2024-10-19T22:27:27.619125Z",
     "shell.execute_reply": "2024-10-19T22:27:27.617284Z"
    },
    "papermill": {
     "duration": 0.049232,
     "end_time": "2024-10-19T22:27:27.622788",
     "exception": false,
     "start_time": "2024-10-19T22:27:27.573556",
     "status": "completed"
    },
    "tags": []
   },
   "outputs": [
    {
     "data": {
      "text/plain": [
       "0"
      ]
     },
     "execution_count": 16,
     "metadata": {},
     "output_type": "execute_result"
    }
   ],
   "source": [
    "df2.duplicated().sum()"
   ]
  },
  {
   "cell_type": "code",
   "execution_count": 17,
   "id": "23be145d",
   "metadata": {
    "execution": {
     "iopub.execute_input": "2024-10-19T22:27:27.649853Z",
     "iopub.status.busy": "2024-10-19T22:27:27.649293Z",
     "iopub.status.idle": "2024-10-19T22:27:27.672583Z",
     "shell.execute_reply": "2024-10-19T22:27:27.670927Z"
    },
    "papermill": {
     "duration": 0.040963,
     "end_time": "2024-10-19T22:27:27.676081",
     "exception": false,
     "start_time": "2024-10-19T22:27:27.635118",
     "status": "completed"
    },
    "tags": []
   },
   "outputs": [],
   "source": [
    "df2_cleaned = df2_cleaned.drop_duplicates()"
   ]
  },
  {
   "cell_type": "code",
   "execution_count": 18,
   "id": "baa06047",
   "metadata": {
    "execution": {
     "iopub.execute_input": "2024-10-19T22:27:27.704813Z",
     "iopub.status.busy": "2024-10-19T22:27:27.703278Z",
     "iopub.status.idle": "2024-10-19T22:27:27.729357Z",
     "shell.execute_reply": "2024-10-19T22:27:27.727657Z"
    },
    "papermill": {
     "duration": 0.043768,
     "end_time": "2024-10-19T22:27:27.732911",
     "exception": false,
     "start_time": "2024-10-19T22:27:27.689143",
     "status": "completed"
    },
    "tags": []
   },
   "outputs": [],
   "source": [
    "df2_cleaned['Order Date'] = pd.to_datetime(df2_cleaned['Order Date'])"
   ]
  },
  {
   "cell_type": "code",
   "execution_count": 19,
   "id": "0d704e94",
   "metadata": {
    "execution": {
     "iopub.execute_input": "2024-10-19T22:27:27.761782Z",
     "iopub.status.busy": "2024-10-19T22:27:27.761090Z",
     "iopub.status.idle": "2024-10-19T22:27:27.778985Z",
     "shell.execute_reply": "2024-10-19T22:27:27.777678Z"
    },
    "papermill": {
     "duration": 0.035386,
     "end_time": "2024-10-19T22:27:27.781947",
     "exception": false,
     "start_time": "2024-10-19T22:27:27.746561",
     "status": "completed"
    },
    "tags": []
   },
   "outputs": [
    {
     "name": "stdout",
     "output_type": "stream",
     "text": [
      "          Order ID Order Date       Ship Mode Customer ID       Product ID  \\\n",
      "2   CA-2016-138688 2016-06-12    Second Class    DV-13045  OFF-LA-10000240   \n",
      "4   US-2015-108966 2015-10-11  Standard Class    SO-20335  OFF-ST-10000760   \n",
      "7   CA-2014-115812 2014-06-09  Standard Class    BH-11710  TEC-PH-10002275   \n",
      "14  US-2015-118983 2015-11-22  Standard Class    HP-14815  OFF-AP-10002311   \n",
      "21  CA-2016-137330 2016-12-09  Standard Class    KB-16585  OFF-AR-10000246   \n",
      "\n",
      "          country             city       State  Postal Code   Region  \\\n",
      "2   United States      Los Angeles  California        90036     West   \n",
      "4   United States  Fort Lauderdale     Florida        33311    South   \n",
      "7   United States      Los Angeles  California        90032     West   \n",
      "14  United States       Fort Worth       Texas        76106  Central   \n",
      "21  United States          Fremont    Nebraska        68025  Central   \n",
      "\n",
      "           Category Sub-Category    Sales  Quantity  Discount    profit  \n",
      "2   Office Supplies       Labels   14.620       2.0       0.0    6.8714  \n",
      "4   Office Supplies      Storage   22.368       2.0       0.2    2.5164  \n",
      "7        Technology       Phones  907.152       6.0       0.2   90.7152  \n",
      "14  Office Supplies   Appliances   68.810       5.0       0.8 -123.8580  \n",
      "21  Office Supplies          Art   19.460       7.0       0.0    5.0596  \n"
     ]
    }
   ],
   "source": [
    "print(df2_cleaned.head())"
   ]
  },
  {
   "cell_type": "code",
   "execution_count": 20,
   "id": "98845593",
   "metadata": {
    "execution": {
     "iopub.execute_input": "2024-10-19T22:27:27.810871Z",
     "iopub.status.busy": "2024-10-19T22:27:27.810351Z",
     "iopub.status.idle": "2024-10-19T22:27:27.826021Z",
     "shell.execute_reply": "2024-10-19T22:27:27.824434Z"
    },
    "papermill": {
     "duration": 0.034067,
     "end_time": "2024-10-19T22:27:27.829309",
     "exception": false,
     "start_time": "2024-10-19T22:27:27.795242",
     "status": "completed"
    },
    "tags": []
   },
   "outputs": [
    {
     "name": "stdout",
     "output_type": "stream",
     "text": [
      "          Order ID Order Date       Ship Mode Customer ID       Product ID  \\\n",
      "2   CA-2016-138688 2016-06-12    Second Class    DV-13045  OFF-LA-10000240   \n",
      "4   US-2015-108966 2015-10-11  Standard Class    SO-20335  OFF-ST-10000760   \n",
      "7   CA-2014-115812 2014-06-09  Standard Class    BH-11710  TEC-PH-10002275   \n",
      "14  US-2015-118983 2015-11-22  Standard Class    HP-14815  OFF-AP-10002311   \n",
      "21  CA-2016-137330 2016-12-09  Standard Class    KB-16585  OFF-AR-10000246   \n",
      "\n",
      "          country             city       State  Postal Code   Region  \\\n",
      "2   United States      Los Angeles  California        90036     West   \n",
      "4   United States  Fort Lauderdale     Florida        33311    South   \n",
      "7   United States      Los Angeles  California        90032     West   \n",
      "14  United States       Fort Worth       Texas        76106  Central   \n",
      "21  United States          Fremont    Nebraska        68025  Central   \n",
      "\n",
      "           Category Sub-Category    Sales  Quantity  Discount    profit  \n",
      "2   Office Supplies       Labels   14.620       2.0       0.0    6.8714  \n",
      "4   Office Supplies      Storage   22.368       2.0       0.2    2.5164  \n",
      "7        Technology       Phones  907.152       6.0       0.2   90.7152  \n",
      "14  Office Supplies   Appliances   68.810       5.0       0.8 -123.8580  \n",
      "21  Office Supplies          Art   19.460       7.0       0.0    5.0596  \n"
     ]
    }
   ],
   "source": [
    "print(df2_cleaned.head())\n"
   ]
  },
  {
   "cell_type": "code",
   "execution_count": 21,
   "id": "db2297b3",
   "metadata": {
    "execution": {
     "iopub.execute_input": "2024-10-19T22:27:27.857580Z",
     "iopub.status.busy": "2024-10-19T22:27:27.857168Z",
     "iopub.status.idle": "2024-10-19T22:27:27.864232Z",
     "shell.execute_reply": "2024-10-19T22:27:27.862577Z"
    },
    "papermill": {
     "duration": 0.024684,
     "end_time": "2024-10-19T22:27:27.867538",
     "exception": false,
     "start_time": "2024-10-19T22:27:27.842854",
     "status": "completed"
    },
    "tags": []
   },
   "outputs": [],
   "source": [
    "df2_cleaned.columns = df2_cleaned.columns.str.strip()\n"
   ]
  },
  {
   "cell_type": "code",
   "execution_count": 22,
   "id": "ae0accdc",
   "metadata": {
    "execution": {
     "iopub.execute_input": "2024-10-19T22:27:27.895632Z",
     "iopub.status.busy": "2024-10-19T22:27:27.895201Z",
     "iopub.status.idle": "2024-10-19T22:27:27.907574Z",
     "shell.execute_reply": "2024-10-19T22:27:27.905994Z"
    },
    "papermill": {
     "duration": 0.030005,
     "end_time": "2024-10-19T22:27:27.910885",
     "exception": false,
     "start_time": "2024-10-19T22:27:27.880880",
     "status": "completed"
    },
    "tags": []
   },
   "outputs": [
    {
     "name": "stdout",
     "output_type": "stream",
     "text": [
      "لا يوجد أصفار في العمودين Sales و Ship Mode.\n"
     ]
    }
   ],
   "source": [
    "zeros_in_col_sales = (df_cleaned['Sales'] == 0).any()\n",
    "zeros_in_col_ship_mode = (df_cleaned['Ship Mode'] == 0).any()\n",
    "\n",
    "if not zeros_in_col_sales and not zeros_in_col_ship_mode:\n",
    "    print(\"لا يوجد أصفار في العمودين Sales و Ship Mode.\")\n",
    "else:\n",
    "    if zeros_in_col_sales:\n",
    "        print(\"يوجد أصفار في العمود Sales.\")\n",
    "    if zeros_in_col_ship_mode:\n",
    "        print(\"يوجد أصفار في العمود Ship Mode.\")\n"
   ]
  },
  {
   "cell_type": "code",
   "execution_count": 23,
   "id": "4543147f",
   "metadata": {
    "execution": {
     "iopub.execute_input": "2024-10-19T22:27:27.939343Z",
     "iopub.status.busy": "2024-10-19T22:27:27.938058Z",
     "iopub.status.idle": "2024-10-19T22:27:27.956873Z",
     "shell.execute_reply": "2024-10-19T22:27:27.955116Z"
    },
    "papermill": {
     "duration": 0.036587,
     "end_time": "2024-10-19T22:27:27.959871",
     "exception": false,
     "start_time": "2024-10-19T22:27:27.923284",
     "status": "completed"
    },
    "tags": []
   },
   "outputs": [
    {
     "name": "stdout",
     "output_type": "stream",
     "text": [
      "Series([], dtype: int64)\n"
     ]
    }
   ],
   "source": [
    "null_counts = df2_cleaned.isnull().sum()\n",
    "print(null_counts[null_counts > 0])  "
   ]
  },
  {
   "cell_type": "code",
   "execution_count": 24,
   "id": "5f0cb054",
   "metadata": {
    "execution": {
     "iopub.execute_input": "2024-10-19T22:27:27.988234Z",
     "iopub.status.busy": "2024-10-19T22:27:27.987789Z",
     "iopub.status.idle": "2024-10-19T22:27:28.015726Z",
     "shell.execute_reply": "2024-10-19T22:27:28.014500Z"
    },
    "papermill": {
     "duration": 0.046417,
     "end_time": "2024-10-19T22:27:28.019590",
     "exception": false,
     "start_time": "2024-10-19T22:27:27.973173",
     "status": "completed"
    },
    "tags": []
   },
   "outputs": [
    {
     "name": "stdout",
     "output_type": "stream",
     "text": [
      "            Order ID       Order Date       Ship Mode Customer ID  \\\n",
      "0     CA-2016-152156   11/8/2016 0:00             NaN    CG-12520   \n",
      "2     CA-2016-138688   6/12/2016 0:00    Second Class    DV-13045   \n",
      "3     US-2015-108966  10/11/2015 0:00  Standard Class    SO-20335   \n",
      "4     US-2015-108966  10/11/2015 0:00  Standard Class    SO-20335   \n",
      "7     CA-2014-115812    6/9/2014 0:00  Standard Class    BH-11710   \n",
      "...              ...              ...             ...         ...   \n",
      "9989  CA-2014-110422   1/21/2014 0:00    Second Class    TB-21400   \n",
      "9990  CA-2017-121258   2/26/2017 0:00  Standard Class    DB-13060   \n",
      "9991  CA-2017-121258   2/26/2017 0:00  Standard Class    DB-13060   \n",
      "9992  CA-2017-121258   2/26/2017 0:00  Standard Class    DB-13060   \n",
      "9993  CA-2017-119914    5/4/2017 0:00    Second Class    CC-12220   \n",
      "\n",
      "           Product ID        country             city       State  \\\n",
      "0     FUR-BO-10001798  United States        Henderson    Kentucky   \n",
      "2     OFF-LA-10000240  United States      Los Angeles  California   \n",
      "3     FUR-TA-10000577  United States  Fort Lauderdale     Florida   \n",
      "4     OFF-ST-10000760  United States  Fort Lauderdale     Florida   \n",
      "7     TEC-PH-10002275  United States      Los Angeles  California   \n",
      "...               ...            ...              ...         ...   \n",
      "9989  FUR-FU-10001889  United States            Miami     Florida   \n",
      "9990  FUR-FU-10000747  United States       Costa Mesa  California   \n",
      "9991  TEC-PH-10003645  United States       Costa Mesa  California   \n",
      "9992  OFF-PA-10004041  United States       Costa Mesa  California   \n",
      "9993  OFF-AP-10002684  United States      Westminster  California   \n",
      "\n",
      "      Postal Code Region         Category Sub-Category     Sales  Quantity  \\\n",
      "0           42420  South        Furniture    Bookcases       NaN       2.0   \n",
      "2           90036   West  Office Supplies       Labels   14.6200       2.0   \n",
      "3           33311  South        Furniture       Tables  957.5775       NaN   \n",
      "4           33311  South  Office Supplies      Storage   22.3680       2.0   \n",
      "7           90032   West       Technology       Phones  907.1520       6.0   \n",
      "...           ...    ...              ...          ...       ...       ...   \n",
      "9989        33180  South        Furniture  Furnishings   25.2480       3.0   \n",
      "9990        92627   West        Furniture  Furnishings   91.9600       2.0   \n",
      "9991        92627   West       Technology       Phones  258.5760       2.0   \n",
      "9992        92627   West  Office Supplies        Paper   29.6000       4.0   \n",
      "9993        92683   West  Office Supplies   Appliances  243.1600       2.0   \n",
      "\n",
      "      Discount    profit  \n",
      "0         0.00   41.9136  \n",
      "2         0.00    6.8714  \n",
      "3         0.45 -383.0310  \n",
      "4         0.20    2.5164  \n",
      "7         0.20   90.7152  \n",
      "...        ...       ...  \n",
      "9989      0.20    4.1028  \n",
      "9990      0.00   15.6332  \n",
      "9991      0.20   19.3932  \n",
      "9992      0.00   13.3200  \n",
      "9993      0.00   72.9480  \n",
      "\n",
      "[8073 rows x 16 columns]\n"
     ]
    }
   ],
   "source": [
    "df2['profit'] = df2['profit'].replace('', None) \n",
    "df2 = df2.dropna(subset=['profit'])  \n",
    "print(df2)\n"
   ]
  },
  {
   "cell_type": "code",
   "execution_count": 25,
   "id": "3f5828b9",
   "metadata": {
    "execution": {
     "iopub.execute_input": "2024-10-19T22:27:28.048952Z",
     "iopub.status.busy": "2024-10-19T22:27:28.048485Z",
     "iopub.status.idle": "2024-10-19T22:27:28.071442Z",
     "shell.execute_reply": "2024-10-19T22:27:28.069823Z"
    },
    "papermill": {
     "duration": 0.042079,
     "end_time": "2024-10-19T22:27:28.074890",
     "exception": false,
     "start_time": "2024-10-19T22:27:28.032811",
     "status": "completed"
    },
    "tags": []
   },
   "outputs": [
    {
     "name": "stdout",
     "output_type": "stream",
     "text": [
      "            Order ID       Order Date       Ship Mode Customer ID  \\\n",
      "3     US-2015-108966  10/11/2015 0:00  Standard Class    SO-20335   \n",
      "7     CA-2014-115812    6/9/2014 0:00  Standard Class    BH-11710   \n",
      "11    CA-2014-115812    6/9/2014 0:00             NaN    BH-11710   \n",
      "27    US-2015-150630   9/17/2015 0:00  Standard Class    TB-21520   \n",
      "35    CA-2016-117590   12/8/2016 0:00     First Class    GH-14485   \n",
      "...              ...              ...             ...         ...   \n",
      "9931  CA-2015-104948  11/13/2015 0:00  Standard Class    KH-16510   \n",
      "9942  CA-2014-143371  12/28/2014 0:00  Standard Class    MD-17350   \n",
      "9947  CA-2017-121559    6/1/2017 0:00    Second Class    HW-14935   \n",
      "9948  CA-2017-121559    6/1/2017 0:00    Second Class    HW-14935   \n",
      "9968  CA-2017-153871  12/11/2017 0:00  Standard Class    RB-19435   \n",
      "\n",
      "           Product ID        country             city         State  \\\n",
      "3     FUR-TA-10000577  United States  Fort Lauderdale       Florida   \n",
      "7     TEC-PH-10002275  United States      Los Angeles    California   \n",
      "11    TEC-PH-10002033  United States      Los Angeles    California   \n",
      "27    FUR-BO-10004834  United States     Philadelphia  Pennsylvania   \n",
      "35    TEC-PH-10004977  United States       Richardson         Texas   \n",
      "...               ...            ...              ...           ...   \n",
      "9931  FUR-BO-10004357  United States   San Bernardino    California   \n",
      "9942  OFF-ST-10001128  United States          Anaheim    California   \n",
      "9947  FUR-CH-10003746  United States     Indianapolis       Indiana   \n",
      "9948  OFF-AP-10002945  United States     Indianapolis       Indiana   \n",
      "9968  OFF-BI-10004600  United States       Plainfield    New Jersey   \n",
      "\n",
      "      Postal Code   Region         Category Sub-Category      Sales  Quantity  \\\n",
      "3           33311    South        Furniture       Tables   957.5775       NaN   \n",
      "7           90032     West       Technology       Phones   907.1520       6.0   \n",
      "11          90032     West       Technology       Phones   911.4240       4.0   \n",
      "27          19140     East        Furniture    Bookcases  3083.4300       7.0   \n",
      "35          75080  Central       Technology       Phones  1097.5440       7.0   \n",
      "...           ...      ...              ...          ...        ...       ...   \n",
      "9931        92404     West        Furniture    Bookcases   683.3320       4.0   \n",
      "9942        92804     West  Office Supplies      Storage   998.8200       9.0   \n",
      "9947        46203  Central        Furniture       Chairs  1925.8800       6.0   \n",
      "9948        46203  Central  Office Supplies   Appliances  2405.2000       8.0   \n",
      "9968         7060     East  Office Supplies      Binders   735.9800       2.0   \n",
      "\n",
      "      Discount     profit  \n",
      "3         0.45  -383.0310  \n",
      "7         0.20    90.7152  \n",
      "11        0.20    68.3568  \n",
      "27        0.50 -1665.0522  \n",
      "35        0.20   123.4737  \n",
      "...        ...        ...  \n",
      "9931      0.15   -40.1960  \n",
      "9942      0.00    29.9646  \n",
      "9947      0.00   539.2464  \n",
      "9948      0.00   793.7160  \n",
      "9968      0.00   331.1910  \n",
      "\n",
      "[805 rows x 16 columns]\n"
     ]
    }
   ],
   "source": [
    "\n",
    "Q1 = df2['Sales'].quantile(0.25)\n",
    "Q3 = df2['Sales'].quantile(0.75)  \n",
    "IQR = Q3 - Q1\n",
    "\n",
    "\n",
    "lower_bound = Q1 - 1.5 * IQR\n",
    "upper_bound = Q3 + 1.5 * IQR\n",
    "\n",
    "\n",
    "outliers = df2[(df2['Sales'] < lower_bound) | (df2['Sales'] > upper_bound)]\n",
    "print(outliers)\n"
   ]
  },
  {
   "cell_type": "code",
   "execution_count": 26,
   "id": "64d152ef",
   "metadata": {
    "execution": {
     "iopub.execute_input": "2024-10-19T22:27:28.103548Z",
     "iopub.status.busy": "2024-10-19T22:27:28.103069Z",
     "iopub.status.idle": "2024-10-19T22:27:28.124069Z",
     "shell.execute_reply": "2024-10-19T22:27:28.122398Z"
    },
    "papermill": {
     "duration": 0.039469,
     "end_time": "2024-10-19T22:27:28.127596",
     "exception": false,
     "start_time": "2024-10-19T22:27:28.088127",
     "status": "completed"
    },
    "tags": []
   },
   "outputs": [
    {
     "name": "stdout",
     "output_type": "stream",
     "text": [
      "Order ID          0\n",
      "Order Date        0\n",
      "Ship Mode       780\n",
      "Customer ID       0\n",
      "Product ID        0\n",
      "country           0\n",
      "city              0\n",
      "State             0\n",
      "Postal Code       0\n",
      "Region            0\n",
      "Category          0\n",
      "Sub-Category      0\n",
      "Sales           988\n",
      "Quantity        349\n",
      "Discount          0\n",
      "profit            0\n",
      "dtype: int64\n"
     ]
    }
   ],
   "source": [
    "missing_values = df2.isnull().sum()\n",
    "print(missing_values)\n"
   ]
  },
  {
   "cell_type": "code",
   "execution_count": 27,
   "id": "fd2c711b",
   "metadata": {
    "execution": {
     "iopub.execute_input": "2024-10-19T22:27:28.157505Z",
     "iopub.status.busy": "2024-10-19T22:27:28.157071Z",
     "iopub.status.idle": "2024-10-19T22:27:28.168721Z",
     "shell.execute_reply": "2024-10-19T22:27:28.167377Z"
    },
    "papermill": {
     "duration": 0.031005,
     "end_time": "2024-10-19T22:27:28.172130",
     "exception": false,
     "start_time": "2024-10-19T22:27:28.141125",
     "status": "completed"
    },
    "tags": []
   },
   "outputs": [],
   "source": [
    "df_cleaned = df2[~df2.index.isin(outliers.index)]  \n"
   ]
  },
  {
   "cell_type": "code",
   "execution_count": 28,
   "id": "884c0013",
   "metadata": {
    "execution": {
     "iopub.execute_input": "2024-10-19T22:27:28.200956Z",
     "iopub.status.busy": "2024-10-19T22:27:28.200490Z",
     "iopub.status.idle": "2024-10-19T22:27:28.257803Z",
     "shell.execute_reply": "2024-10-19T22:27:28.256173Z"
    },
    "papermill": {
     "duration": 0.07567,
     "end_time": "2024-10-19T22:27:28.261243",
     "exception": false,
     "start_time": "2024-10-19T22:27:28.185573",
     "status": "completed"
    },
    "tags": []
   },
   "outputs": [],
   "source": [
    "df2 = pd.read_csv('/kaggle/input/bussiness1/Del Col- Raw Data - Business Data Set.csv')"
   ]
  },
  {
   "cell_type": "code",
   "execution_count": 29,
   "id": "d35139b7",
   "metadata": {
    "execution": {
     "iopub.execute_input": "2024-10-19T22:27:28.291957Z",
     "iopub.status.busy": "2024-10-19T22:27:28.291524Z",
     "iopub.status.idle": "2024-10-19T22:27:28.317768Z",
     "shell.execute_reply": "2024-10-19T22:27:28.315850Z"
    },
    "papermill": {
     "duration": 0.045645,
     "end_time": "2024-10-19T22:27:28.321464",
     "exception": false,
     "start_time": "2024-10-19T22:27:28.275819",
     "status": "completed"
    },
    "tags": []
   },
   "outputs": [],
   "source": [
    "pivot_table = df2.pivot_table(\n",
    "    values='Sales',       \n",
    "    index='Region',      \n",
    "    columns='Category',  \n",
    "    aggfunc='sum',        \n",
    "    fill_value=0      \n",
    ")"
   ]
  },
  {
   "cell_type": "code",
   "execution_count": 30,
   "id": "f4e6fdd1",
   "metadata": {
    "execution": {
     "iopub.execute_input": "2024-10-19T22:27:28.350960Z",
     "iopub.status.busy": "2024-10-19T22:27:28.350504Z",
     "iopub.status.idle": "2024-10-19T22:27:28.360977Z",
     "shell.execute_reply": "2024-10-19T22:27:28.359170Z"
    },
    "papermill": {
     "duration": 0.028779,
     "end_time": "2024-10-19T22:27:28.364319",
     "exception": false,
     "start_time": "2024-10-19T22:27:28.335540",
     "status": "completed"
    },
    "tags": []
   },
   "outputs": [
    {
     "name": "stdout",
     "output_type": "stream",
     "text": [
      "Category    Furniture  Office Supplies  Technology\n",
      "Region                                            \n",
      "Central   143028.5072       147617.447  141641.242\n",
      "East      182563.8010       171074.916  223227.764\n",
      "South      98250.8980       100359.534  130533.251\n",
      "West      214402.4985       192492.751  215061.602\n"
     ]
    }
   ],
   "source": [
    "print(pivot_table)\n"
   ]
  }
 ],
 "metadata": {
  "kaggle": {
   "accelerator": "none",
   "dataSources": [
    {
     "datasetId": 5909461,
     "sourceId": 9670389,
     "sourceType": "datasetVersion"
    }
   ],
   "dockerImageVersionId": 30786,
   "isGpuEnabled": false,
   "isInternetEnabled": true,
   "language": "python",
   "sourceType": "notebook"
  },
  "kernelspec": {
   "display_name": "Python 3",
   "language": "python",
   "name": "python3"
  },
  "language_info": {
   "codemirror_mode": {
    "name": "ipython",
    "version": 3
   },
   "file_extension": ".py",
   "mimetype": "text/x-python",
   "name": "python",
   "nbconvert_exporter": "python",
   "pygments_lexer": "ipython3",
   "version": "3.10.14"
  },
  "papermill": {
   "default_parameters": {},
   "duration": 9.044593,
   "end_time": "2024-10-19T22:27:29.405376",
   "environment_variables": {},
   "exception": null,
   "input_path": "__notebook__.ipynb",
   "output_path": "__notebook__.ipynb",
   "parameters": {},
   "start_time": "2024-10-19T22:27:20.360783",
   "version": "2.6.0"
  }
 },
 "nbformat": 4,
 "nbformat_minor": 5
}
